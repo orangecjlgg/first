{
 "cells": [
  {
   "cell_type": "code",
   "execution_count": 6,
   "metadata": {},
   "outputs": [
    {
     "name": "stdout",
     "output_type": "stream",
     "text": [
      "请输入你的名字?曲江\n",
      "欢迎光临,曲江!\n",
      "\n",
      "请输入你的名字?q\n"
     ]
    }
   ],
   "source": [
    "'''来客拜访程序及记录'''\n",
    "import time\n",
    "filename = 'guest_book.txt'\n",
    "\n",
    "while True:\n",
    "    name = input('请输入你的名字?')\n",
    "    if name == 'q':\n",
    "        break\n",
    "    else:\n",
    "        local_time = time.strftime(\"%Y-%m-%d %H:%M:%S\")\n",
    "        print('欢迎光临,'+ name + '!\\n')\n",
    "        with open(filename, 'a') as file_object:\n",
    "            file_object.write(name + '在' + local_time + '前来.\\n')\n",
    "            "
   ]
  },
  {
   "cell_type": "code",
   "execution_count": null,
   "metadata": {},
   "outputs": [],
   "source": []
  }
 ],
 "metadata": {
  "kernelspec": {
   "display_name": "Python 3",
   "language": "python",
   "name": "python3"
  },
  "language_info": {
   "codemirror_mode": {
    "name": "ipython",
    "version": 3
   },
   "file_extension": ".py",
   "mimetype": "text/x-python",
   "name": "python",
   "nbconvert_exporter": "python",
   "pygments_lexer": "ipython3",
   "version": "3.6.4"
  }
 },
 "nbformat": 4,
 "nbformat_minor": 2
}
